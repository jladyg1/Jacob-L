{
 "cells": [
  {
   "cell_type": "markdown",
   "metadata": {
    "colab_type": "text",
    "id": "view-in-github"
   },
   "source": [
    "<a href=\"https://colab.research.google.com/github/lsuhpchelp/lbrnloniworkshop2019/blob/master/day1_python/intro_python.ipynb\" target=\"_parent\"><img src=\"https://colab.research.google.com/assets/colab-badge.svg\" alt=\"Open In Colab\"/></a>"
   ]
  },
  {
   "cell_type": "markdown",
   "metadata": {
    "colab_type": "text",
    "id": "u1YDPNtbdHDj"
   },
   "source": [
    "\n",
    " #  Python Data Types\n",
    "\n",
    "## PETE 2061 Lab 2 Workbook \n",
    "\n",
    "## THIS IS DUE BY 10:20 AM TODAY\n",
    "\n",
    "<a id='top'></a>"
   ]
  },
  {
   "cell_type": "markdown",
   "metadata": {
    "colab_type": "text",
    "id": "krWd44XodHDp"
   },
   "source": [
    "<a id='variables'></a>\n",
    "## Decline Curve Analysis\n",
    "Wells A, B, and C flow with an initial flow rate ($q_i$) of 5,000 bopd (barrels of oil per day), and have a continuous initial decline rate ($D_i$) of 20% per year. Well A declines exponentially, while well B declines hyperbolically, with a b-exponent of 0.5, and well C declines harmonically (this means that b = 0). <br><br>"
   ]
  },
  {
   "cell_type": "markdown",
   "metadata": {},
   "source": [
    "Step 1. Import the math library (so that the exponential function is available). <br>"
   ]
  },
  {
   "cell_type": "code",
   "execution_count": 133,
   "metadata": {},
   "outputs": [],
   "source": [
    "import math"
   ]
  },
  {
   "cell_type": "markdown",
   "metadata": {},
   "source": [
    "Step 2. Create variables named q_i, D_i and b, and assign them to the given initial flow rate, initial decline rate, and hyperbolic b-exponent of 0.5, respectively. <br>"
   ]
  },
  {
   "cell_type": "code",
   "execution_count": 67,
   "metadata": {},
   "outputs": [
    {
     "name": "stdout",
     "output_type": "stream",
     "text": [
      "1.6487212707001282\n"
     ]
    }
   ],
   "source": [
    "q_i = 5000\n",
    "D_i = .2\n",
    "b = math.exp(.5)\n"
   ]
  },
  {
   "cell_type": "markdown",
   "metadata": {},
   "source": [
    "Step 3. Using the list() and range() functions, create a list named t, and use it store time in years; starting from 0 to 3 years, and in increments of 1 year. The first item in list t will be 0, and the last item will be 3.<br>"
   ]
  },
  {
   "cell_type": "code",
   "execution_count": 57,
   "metadata": {},
   "outputs": [
    {
     "ename": "TypeError",
     "evalue": "range expected at most 3 arguments, got 4",
     "output_type": "error",
     "traceback": [
      "\u001b[1;31m---------------------------------------------------------------------------\u001b[0m",
      "\u001b[1;31mTypeError\u001b[0m                                 Traceback (most recent call last)",
      "\u001b[1;32m<ipython-input-57-6ad65694bd1d>\u001b[0m in \u001b[0;36m<module>\u001b[1;34m\u001b[0m\n\u001b[1;32m----> 1\u001b[1;33m \u001b[0mintRange\u001b[0m \u001b[1;33m=\u001b[0m \u001b[0mrange\u001b[0m\u001b[1;33m(\u001b[0m\u001b[1;36m0\u001b[0m\u001b[1;33m,\u001b[0m\u001b[1;36m1\u001b[0m\u001b[1;33m,\u001b[0m\u001b[1;36m2\u001b[0m\u001b[1;33m,\u001b[0m\u001b[1;36m3\u001b[0m\u001b[1;33m)\u001b[0m\u001b[1;33m\u001b[0m\u001b[1;33m\u001b[0m\u001b[0m\n\u001b[0m\u001b[0;32m      2\u001b[0m \u001b[0mlistT\u001b[0m \u001b[1;33m=\u001b[0m \u001b[0mlist\u001b[0m\u001b[1;33m(\u001b[0m\u001b[0mintRange\u001b[0m\u001b[1;33m)\u001b[0m\u001b[1;33m\u001b[0m\u001b[1;33m\u001b[0m\u001b[0m\n",
      "\u001b[1;31mTypeError\u001b[0m: range expected at most 3 arguments, got 4"
     ]
    }
   ],
   "source": [
    "intRange = range(0,1,2,3)\n",
    "listT = list(intRange)"
   ]
  },
  {
   "cell_type": "markdown",
   "metadata": {},
   "source": [
    "Step 4. Create a list named q_A, and fill it with four zeros. <br>"
   ]
  },
  {
   "cell_type": "code",
   "execution_count": 4,
   "metadata": {},
   "outputs": [],
   "source": [
    "listq_A = [0,0,0,0]"
   ]
  },
  {
   "cell_type": "markdown",
   "metadata": {},
   "source": [
    "Step 5. Also create lists named q_B and q_C and let them store four zeros each. Note that q_A, q_B and q_C correspond to the flow rates of wells A, B and C, respectively. <br>"
   ]
  },
  {
   "cell_type": "code",
   "execution_count": 5,
   "metadata": {},
   "outputs": [],
   "source": [
    "listq_B = [0,0,0,0]\n",
    "listq_C = [0,0,0,0]"
   ]
  },
  {
   "cell_type": "markdown",
   "metadata": {},
   "source": [
    "Step 6. Using the appropriate equation for well A, \n",
    "    (a) compute the its rate at a time of 0 years, and store it in the first index of the list, q_A. Double-check that your result for this is equal to the initial flow rate.\n",
    "    (b) compute the its rate after 1 year and store it in the second index of the list, q_A.\n",
    "    (c) compute the its rate after 2 years and store it in the third index of the list, q_A.\n",
    "    (d) compute the its rate after 3 years and store it in the fourth index of the list, q_A. <br>"
   ]
  },
  {
   "cell_type": "code",
   "execution_count": 144,
   "metadata": {},
   "outputs": [],
   "source": [
    "q0 = math.exp(-.2 * 0) * 5000\n",
    "q1 = math.exp(-.2 * 1) * 5000\n",
    "q2 = math.exp(-.2 * 2) * 5000\n",
    "q3 = math.exp(-.2 * 3) * 5000\n",
    "\n",
    "qlist = [q0, q1, q2, q3]\n",
    "\n",
    "\n"
   ]
  },
  {
   "cell_type": "markdown",
   "metadata": {},
   "source": [
    "Step 7. Print out list q_A. <br>"
   ]
  },
  {
   "cell_type": "code",
   "execution_count": 122,
   "metadata": {},
   "outputs": [
    {
     "name": "stdout",
     "output_type": "stream",
     "text": [
      "[5000.0, 4093.653765389909, 3351.600230178197, 2744.058180470132]\n"
     ]
    }
   ],
   "source": [
    "print(q_Alist)"
   ]
  },
  {
   "cell_type": "markdown",
   "metadata": {},
   "source": [
    "Step 8. Using the appropriate equation for wells B and C, compute and store the corresponding four rates in q_B and q_C. This is similar to the steps in 6 (a) through (d), but with the hyperbolic and harmonic decline curve equations, respectively. <br>"
   ]
  },
  {
   "cell_type": "code",
   "execution_count": 92,
   "metadata": {},
   "outputs": [],
   "source": [
    "q_B1 = ((5000) / (1 + .5 * .2 * 0) ** (1 / .5))\n",
    "\n",
    "q_B2 = ((5000) / (1 + .5 * .2 * 1) ** (1 / .5))\n",
    "\n",
    "q_B3 = ((5000) / (1 + .5 * .2 * 2) ** (1 / .5))\n",
    "\n",
    "q_B4 = ((5000) / (1 + .5 * .2 * 3) ** (1 / .5))\n",
    "\n",
    "q_Blist = [q_B1, q_B2, q_B3, q_B4]\n",
    "q_C1 = ((5000) / (1 + .2 * 0))\n",
    "\n",
    "q_C2 = ((5000) / (1 + .2 * 1))\n",
    "\n",
    "q_C3 = ((5000) / (1 + .2 * 2))\n",
    "\n",
    "q_C4 = ((5000) / (1 + .2 * 3))\n",
    "\n",
    "q_Clist = [q_C1, q_C2, q_C3, q_C4]\n",
    "\n",
    "\n",
    "\n"
   ]
  },
  {
   "cell_type": "markdown",
   "metadata": {},
   "source": [
    "Step 9. Print out lists q_B and q_C <br>"
   ]
  },
  {
   "cell_type": "code",
   "execution_count": 93,
   "metadata": {},
   "outputs": [
    {
     "name": "stdout",
     "output_type": "stream",
     "text": [
      "[5000.0, 4132.231404958677, 3472.222222222222, 2958.5798816568044] [5000.0, 4166.666666666667, 3571.4285714285716, 3125.0]\n"
     ]
    }
   ],
   "source": [
    "print(q_Blist, q_Clist)"
   ]
  },
  {
   "cell_type": "markdown",
   "metadata": {},
   "source": [
    "Step 10. Using all that you have learned so far, compute the corresponding cumulative production (Q_A, Q_B and Q_C) using the analytical expressions in your lecture notes. Print out the four items in each of these three lists. <br>"
   ]
  },
  {
   "cell_type": "code",
   "execution_count": 140,
   "metadata": {},
   "outputs": [
    {
     "name": "stdout",
     "output_type": "stream",
     "text": [
      "[0.0, 3351.600230178197, 24542.109027781644, 24938.03119558334]\n",
      "[0.0, 4338.842975206617, 7638.888888888889, 10207.100591715976]\n",
      "[0.0, 4166.666666666665, 7142.857142857142, 9375.0]\n"
     ]
    }
   ],
   "source": [
    "Q_A1 = (5000 - q0) / (.2)\n",
    "Q_A2 = (5000 - q1) / (.2)\n",
    "Q_A3 = (5000 - q2) / (.2)\n",
    "Q_A4 = (5000 - q3) / (.2)\n",
    "Alist = [Q_A1, q_A2, Q_A3, Q_A4]\n",
    "print(Alist)\n",
    "\n",
    "Q_B1 = (5000 - q_B1) / (.2)\n",
    "Q_B2 = (5000 - q_B2) / (.2)\n",
    "Q_B3 = (5000 - q_B3) / (.2)\n",
    "Q_B4 = (5000 - q_B4) / (.2)\n",
    "Blist = [Q_B1, Q_B2, Q_B3, Q_B4]\n",
    "print(Blist)\n",
    "\n",
    "Q_C1 = (5000 - q_C1) / (.2)\n",
    "Q_C2 = (5000 - q_C2) / (.2)\n",
    "Q_C3 = (5000 - q_C3) / (.2)\n",
    "Q_C4 = (5000 - q_C4) / (.2)\n",
    "Clist = [Q_C1, Q_C2, Q_C3, Q_C4]\n",
    "print(Clist)"
   ]
  },
  {
   "cell_type": "markdown",
   "metadata": {},
   "source": [
    "Step 11. Using the Trapezoidal rule for well A, compute the volume of oil (in barrels) produced between:\n",
    "    (a) time = 0 and time = 1 year\n",
    "    (b) time = 1 and time = 2 years\n",
    "    (c) time = 2 and time = 3 years. <br>"
   ]
  },
  {
   "cell_type": "code",
   "execution_count": 146,
   "metadata": {},
   "outputs": [
    {
     "name": "stdout",
     "output_type": "stream",
     "text": [
      "[5000.0, 4093.653765389909, 3351.600230178197, 2744.058180470132]\n"
     ]
    },
    {
     "ename": "TypeError",
     "evalue": "'float' object is not subscriptable",
     "output_type": "error",
     "traceback": [
      "\u001b[1;31m---------------------------------------------------------------------------\u001b[0m",
      "\u001b[1;31mTypeError\u001b[0m                                 Traceback (most recent call last)",
      "\u001b[1;32m<ipython-input-146-3c133cd3439e>\u001b[0m in \u001b[0;36m<module>\u001b[1;34m\u001b[0m\n\u001b[0;32m      1\u001b[0m \u001b[0mprint\u001b[0m\u001b[1;33m(\u001b[0m\u001b[0mqlist\u001b[0m\u001b[1;33m)\u001b[0m\u001b[1;33m\u001b[0m\u001b[1;33m\u001b[0m\u001b[0m\n\u001b[1;32m----> 2\u001b[1;33m \u001b[0mqa\u001b[0m \u001b[1;33m=\u001b[0m \u001b[1;36m.5\u001b[0m\u001b[1;33m[\u001b[0m\u001b[0mq1\u001b[0m \u001b[1;33m+\u001b[0m \u001b[0mq0\u001b[0m\u001b[1;33m]\u001b[0m \u001b[1;33m*\u001b[0m \u001b[1;33m(\u001b[0m\u001b[1;36m1\u001b[0m \u001b[1;33m-\u001b[0m \u001b[1;36m0\u001b[0m\u001b[1;33m)\u001b[0m\u001b[1;33m\u001b[0m\u001b[1;33m\u001b[0m\u001b[0m\n\u001b[0m\u001b[0;32m      3\u001b[0m \u001b[0mqb\u001b[0m \u001b[1;33m=\u001b[0m \u001b[1;36m.5\u001b[0m\u001b[1;33m[\u001b[0m\u001b[0mq2\u001b[0m \u001b[1;33m+\u001b[0m \u001b[0mq1\u001b[0m\u001b[1;33m]\u001b[0m \u001b[1;33m*\u001b[0m \u001b[1;33m(\u001b[0m\u001b[1;36m2\u001b[0m \u001b[1;33m-\u001b[0m \u001b[1;36m1\u001b[0m\u001b[1;33m)\u001b[0m\u001b[1;33m\u001b[0m\u001b[1;33m\u001b[0m\u001b[0m\n\u001b[0;32m      4\u001b[0m \u001b[0mqc\u001b[0m \u001b[1;33m=\u001b[0m \u001b[1;36m.5\u001b[0m\u001b[1;33m[\u001b[0m\u001b[0mq3\u001b[0m \u001b[1;33m+\u001b[0m \u001b[0mq2\u001b[0m\u001b[1;33m]\u001b[0m \u001b[1;33m*\u001b[0m \u001b[1;33m(\u001b[0m\u001b[1;36m3\u001b[0m \u001b[1;33m-\u001b[0m \u001b[1;36m2\u001b[0m\u001b[1;33m)\u001b[0m\u001b[1;33m\u001b[0m\u001b[1;33m\u001b[0m\u001b[0m\n",
      "\u001b[1;31mTypeError\u001b[0m: 'float' object is not subscriptable"
     ]
    }
   ],
   "source": [
    "print(qlist)\n",
    "q_a = .5[q1 + q0] * (1 - 0)\n",
    "q_b = .5[q2 + q1] * (2 - 1)\n",
    "q_c = .5[q3 + q2] * (3 - 2)\n"
   ]
  },
  {
   "cell_type": "markdown",
   "metadata": {},
   "source": [
    "Step 12. Add up the three results from 11(a), (b) and (c) to obtain the cumulative production for well A after 3 years. <br>"
   ]
  },
  {
   "cell_type": "code",
   "execution_count": 132,
   "metadata": {},
   "outputs": [
    {
     "name": "stdout",
     "output_type": "stream",
     "text": [
      "10732.2831\n"
     ]
    }
   ],
   "source": [
    "a = 4546.8269\n",
    "b = 3372.627\n",
    "c = 2812.8292\n",
    "sum = (a + b + c)\n",
    "print(sum)"
   ]
  },
  {
   "cell_type": "markdown",
   "metadata": {},
   "source": [
    "Step 13. Compare the result from Step 12 (a numerical integration) to the result stored in the last item in list Q_A (an exact integration). Compute the relative error (in %) of the numerical integration. <br>"
   ]
  },
  {
   "cell_type": "code",
   "execution_count": 149,
   "metadata": {},
   "outputs": [
    {
     "name": "stdout",
     "output_type": "stream",
     "text": [
      "56.96419249848101\n"
     ]
    }
   ],
   "source": [
    "E_t = (24938.03119558334 - 10732.2831)\n",
    "e_rel = ((E_t) / (24938.03119558334)) * 100\n",
    "print(e_rel) "
   ]
  },
  {
   "cell_type": "code",
   "execution_count": null,
   "metadata": {},
   "outputs": [],
   "source": []
  }
 ],
 "metadata": {
  "colab": {
   "collapsed_sections": [
    "sYQs3O-6dHFb",
    "8sIJ4A57dHFk",
    "_73RPOcBdHFn",
    "h9s2tfPcdHFo",
    "zt4YHVYPdHGR"
   ],
   "include_colab_link": true,
   "name": "Copy of intro-python-colab.ipynb",
   "provenance": [],
   "version": "0.3.2"
  },
  "kernelspec": {
   "display_name": "Python 3",
   "language": "python",
   "name": "python3"
  },
  "language_info": {
   "codemirror_mode": {
    "name": "ipython",
    "version": 3
   },
   "file_extension": ".py",
   "mimetype": "text/x-python",
   "name": "python",
   "nbconvert_exporter": "python",
   "pygments_lexer": "ipython3",
   "version": "3.7.3"
  }
 },
 "nbformat": 4,
 "nbformat_minor": 1
}
